{
 "cells": [
  {
   "cell_type": "markdown",
   "metadata": {},
   "source": [
    "## to share github"
   ]
  },
  {
   "cell_type": "markdown",
   "metadata": {},
   "source": [
    "This is for an online course test notebook, will be shared on github"
   ]
  },
  {
   "cell_type": "markdown",
   "metadata": {},
   "source": [
    "List of data science languages\n",
    "Python\n",
    "R\n",
    "SQL\n",
    "Java\n",
    "Julia\n",
    "Scala\n",
    "C/C++\n",
    "JavaScript\n",
    "Swift\n",
    "Go\n",
    "MATLAB\n",
    "SAS"
   ]
  },
  {
   "cell_type": "markdown",
   "metadata": {},
   "source": [
    "Libraries for Data Science\n",
    "\n",
    "TensorFlow\n",
    "\n",
    "NumPy\n",
    "\n",
    "SciPy \n",
    "\n",
    "Pandas\n",
    "\n",
    "Matplotlib \n",
    "\n",
    "Keras\n",
    "\n",
    "SciKit-Learn\n",
    "\n",
    "PyTorch\n",
    "\n",
    "Scrapy\n",
    "\n",
    "BeautifulSoup\n",
    "\n",
    "LightGBM\n",
    "\n",
    "ELI5\n",
    "\n",
    "Theano\n",
    "\n",
    "NuPIC\n",
    "\n",
    "Ramp\n",
    "\n",
    "Pipenv\n",
    "\n",
    "Bob\n",
    "\n",
    "PyBrain\n",
    "\n",
    "Caffe2\n",
    "\n",
    "Chainer"
   ]
  },
  {
   "cell_type": "markdown",
   "metadata": {},
   "source": [
    "| # | Data Science Tools |\n",
    "| --- | --- |\n",
    "| 1 | Phyton |\n",
    "| 2 | R |\n",
    "| 3 | Jupyter |\n",
    "| 4 | SQL |\n",
    "| # | ... |"
   ]
  },
  {
   "cell_type": "markdown",
   "metadata": {},
   "source": [
    "$\\hat{Y} = \\hat{\\beta}_{0} + \\sum \\limits _{j=1} ^{p} X_{j}\\hat{\\beta}_{j} $"
   ]
  },
  {
   "cell_type": "code",
   "execution_count": 2,
   "metadata": {},
   "outputs": [
    {
     "data": {
      "text/plain": [
       "12"
      ]
     },
     "execution_count": 2,
     "metadata": {},
     "output_type": "execute_result"
    }
   ],
   "source": [
    "3*4"
   ]
  },
  {
   "cell_type": "code",
   "execution_count": 3,
   "metadata": {},
   "outputs": [
    {
     "data": {
      "text/plain": [
       "7"
      ]
     },
     "execution_count": 3,
     "metadata": {},
     "output_type": "execute_result"
    }
   ],
   "source": [
    "3+4"
   ]
  },
  {
   "cell_type": "code",
   "execution_count": 7,
   "metadata": {},
   "outputs": [
    {
     "data": {
      "text/plain": [
       "4.0"
      ]
     },
     "execution_count": 7,
     "metadata": {},
     "output_type": "execute_result"
    }
   ],
   "source": [
    "m = 240\n",
    "h=m/60\n",
    "h"
   ]
  },
  {
   "cell_type": "markdown",
   "metadata": {},
   "source": [
    "# Objective 1\n",
    "# Objective 2\n",
    "## Objective 2.1\n",
    "## Objective 2.2\n",
    "### Objective 2.2.1"
   ]
  },
  {
   "cell_type": "markdown",
   "metadata": {},
   "source": [
    "# Writer's name is Cihangir"
   ]
  },
  {
   "cell_type": "code",
   "execution_count": null,
   "metadata": {},
   "outputs": [],
   "source": []
  }
 ],
 "metadata": {
  "kernelspec": {
   "display_name": "Python 3",
   "language": "python",
   "name": "python3"
  },
  "language_info": {
   "codemirror_mode": {
    "name": "ipython",
    "version": 3
   },
   "file_extension": ".py",
   "mimetype": "text/x-python",
   "name": "python",
   "nbconvert_exporter": "python",
   "pygments_lexer": "ipython3",
   "version": "3.8.3"
  }
 },
 "nbformat": 4,
 "nbformat_minor": 4
}
